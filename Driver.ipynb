{
  "nbformat": 4,
  "nbformat_minor": 0,
  "metadata": {
    "colab": {
      "provenance": []
    },
    "kernelspec": {
      "name": "python3",
      "display_name": "Python 3"
    },
    "language_info": {
      "name": "python"
    }
  },
  "cells": [
    {
      "cell_type": "code",
      "execution_count": null,
      "metadata": {
        "id": "DNgJZ2O2Wv8U"
      },
      "outputs": [],
      "source": [
        "import os\n",
        "import shutil\n",
        "import pandas as pd\n",
        "import matplotlib.pyplot as plt\n",
        "import seaborn as sns\n",
        "import cv2\n",
        "import torch\n",
        "from ultralytics import YOLO\n",
        "from sklearn.metrics import classification_report, confusion_matrix\n",
        "import numpy as np\n",
        "from PIL import Image"
      ]
    },
    {
      "cell_type": "code",
      "source": [
        "# Define dataset paths\n",
        "ROOT_DIR = '/content/drive/MyDrive/DATASET'\n",
        "TRAIN_DIR = os.path.join(ROOT_DIR, 'train')\n",
        "VAL_DIR = os.path.join(ROOT_DIR, 'val')\n",
        "TEST_DIR = os.path.join(ROOT_DIR, 'test')"
      ],
      "metadata": {
        "id": "gKNIME1nWxXn"
      },
      "execution_count": null,
      "outputs": []
    },
    {
      "cell_type": "code",
      "source": [
        "# Validate dataset\n",
        "print(\"Checking dataset...\")\n",
        "if not all(os.path.exists(path) for path in [TRAIN_DIR, VAL_DIR, TEST_DIR]):\n",
        "    raise FileNotFoundError(\"One or more dataset directories are missing!\")\n",
        "print(\"Dataset found!\")"
      ],
      "metadata": {
        "id": "QVgPK2AaW1se"
      },
      "execution_count": null,
      "outputs": []
    },
    {
      "cell_type": "code",
      "source": [
        "# Load YOLO model\n",
        "model = YOLO('yolov8l-oiv7.pt')"
      ],
      "metadata": {
        "id": "8SB18pkVW-Mg"
      },
      "execution_count": null,
      "outputs": []
    },
    {
      "cell_type": "code",
      "source": [
        "# Train model\n",
        "results = model.train(\n",
        "    data='/content/drive/MyDrive/DATASET/data.yaml',\n",
        "    epochs=30,\n",
        "    imgsz=640,\n",
        "    batch=8,\n",
        "    workers=4,\n",
        "    lr0=0.01,\n",
        "    optimizer='SGD',\n",
        "    momentum=0.937,\n",
        "    weight_decay=0.0005,\n",
        ")\n"
      ],
      "metadata": {
        "id": "gdXtQYIxXBi6"
      },
      "execution_count": null,
      "outputs": []
    },
    {
      "cell_type": "code",
      "source": [
        "# Save trained model to Google Drive\n",
        "shutil.copytree('runs', '/content/drive/MyDrive/DATASET/runs')\n",
        "\n",
        "# Load training results\n",
        "df = pd.read_csv('/content/runs/detect/train2/results.csv')\n",
        "df.columns = df.columns.str.strip()"
      ],
      "metadata": {
        "id": "vZkfQrF7XFUX"
      },
      "execution_count": null,
      "outputs": []
    },
    {
      "cell_type": "code",
      "source": [
        "# Plot training metrics\n",
        "fig, axs = plt.subplots(nrows=5, ncols=2, figsize=(15, 15))\n",
        "sns.lineplot(x='epoch', y='train/box_loss', data=df, ax=axs[0,0])\n",
        "sns.lineplot(x='epoch', y='train/cls_loss', data=df, ax=axs[0,1])\n",
        "sns.lineplot(x='epoch', y='train/dfl_loss', data=df, ax=axs[1,0])\n",
        "sns.lineplot(x='epoch', y='metrics/precision(B)', data=df, ax=axs[1,1])\n",
        "sns.lineplot(x='epoch', y='metrics/recall(B)', data=df, ax=axs[2,0])\n",
        "sns.lineplot(x='epoch', y='metrics/mAP50(B)', data=df, ax=axs[2,1])\n",
        "sns.lineplot(x='epoch', y='metrics/mAP50-95(B)', data=df, ax=axs[3,0])\n",
        "sns.lineplot(x='epoch', y='val/box_loss', data=df, ax=axs[3,1])\n",
        "sns.lineplot(x='epoch', y='val/cls_loss', data=df, ax=axs[4,0])\n",
        "sns.lineplot(x='epoch', y='val/dfl_loss', data=df, ax=axs[4,1])\n",
        "plt.suptitle('Training Metrics and Loss', fontsize=24)\n",
        "plt.subplots_adjust(top=0.8)\n",
        "plt.tight_layout()\n",
        "plt.show()"
      ],
      "metadata": {
        "id": "kFAxt6ThXL83"
      },
      "execution_count": null,
      "outputs": []
    },
    {
      "cell_type": "code",
      "source": [
        "# Load best trained model\n",
        "model = YOLO('runs/detect/train2/weights/best.pt')"
      ],
      "metadata": {
        "id": "9lK7hvCmXNJr"
      },
      "execution_count": null,
      "outputs": []
    },
    {
      "cell_type": "code",
      "source": [
        "# Validation Metrics\n",
        "metrics = model.val(data='/content/drive/MyDrive/DATASET/data.yaml', conf=0.25, iou=0.45, task='val')\n",
        "print(\"mAP50-95:\", metrics.box.map)\n",
        "print(\"mAP50:\", metrics.box.map50)\n",
        "print(\"mAP75:\", metrics.box.map75)"
      ],
      "metadata": {
        "id": "7DMt-CtmXQnw"
      },
      "execution_count": null,
      "outputs": []
    },
    {
      "cell_type": "code",
      "source": [
        "# Load and display confusion matrix\n",
        "image_path = '/content/runs/detect/train2/confusion_matrix.png'\n",
        "image = Image.open(image_path)\n",
        "plt.figure(figsize=(12, 12))\n",
        "plt.imshow(image)\n",
        "plt.axis('off')\n",
        "plt.title('Confusion Matrix')\n",
        "plt.show()"
      ],
      "metadata": {
        "id": "f69Jc5ouXTfA"
      },
      "execution_count": null,
      "outputs": []
    },
    {
      "cell_type": "code",
      "source": [
        "# Perform inference on test set\n",
        "test_dataset = '/content/drive/MyDrive/DATASET/test/images'\n",
        "results = model.predict(source=test_dataset, save=True)"
      ],
      "metadata": {
        "id": "SaVkKmhCXXdF"
      },
      "execution_count": null,
      "outputs": []
    },
    {
      "cell_type": "code",
      "source": [
        "# Extract ground-truth vs predicted labels\n",
        "true_labels, pred_labels = [], []\n",
        "for result in results:\n",
        "    for box in result.boxes:\n",
        "        true_labels.append(box.cls.numpy())\n",
        "        pred_labels.append(box.conf.numpy())"
      ],
      "metadata": {
        "id": "aow8mB0JXhEi"
      },
      "execution_count": null,
      "outputs": []
    },
    {
      "cell_type": "code",
      "source": [
        "# Classification Report\n",
        "print(\"\\nClassification Report:\")\n",
        "print(classification_report(true_labels, pred_labels))\n",
        "\n",
        "# Confusion Matrix\n",
        "conf_matrix = confusion_matrix(true_labels, pred_labels)\n",
        "conf_matrix_normalized = conf_matrix.astype('float') / conf_matrix.sum(axis=1)[:, np.newaxis]\n",
        "sns.heatmap(conf_matrix_normalized, annot=True, fmt='.2f', cmap='Blues')\n",
        "plt.xlabel(\"Predicted\")\n",
        "plt.ylabel(\"True\")\n",
        "plt.title(\"Normalized Confusion Matrix\")\n",
        "plt.show()"
      ],
      "metadata": {
        "id": "P5Kj8g6wXh_Z"
      },
      "execution_count": null,
      "outputs": []
    }
  ]
}